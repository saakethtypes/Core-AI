{
 "cells": [
  {
   "cell_type": "code",
   "execution_count": 1,
   "metadata": {},
   "outputs": [
    {
     "name": "stdout",
     "output_type": "stream",
     "text": [
      "Hello world I'm an AI.\n"
     ]
    }
   ],
   "source": [
    "#11:06 pm\n",
    "import numpy as np\n",
    "import matplotlib.pyplot as plt\n",
    "print(\"Hello world I'm an AI.\")"
   ]
  },
  {
   "cell_type": "code",
   "execution_count": 2,
   "metadata": {},
   "outputs": [
    {
     "data": {
      "text/plain": [
       "[<matplotlib.lines.Line2D at 0x16d6ba8c100>]"
      ]
     },
     "execution_count": 2,
     "metadata": {},
     "output_type": "execute_result"
    },
    {
     "data": {
      "image/png": "[encoded data removed]",
      "text/plain": [
       "<Figure size 432x288 with 1 Axes>"
      ]
     },
     "metadata": {
      "needs_background": "light"
     },
     "output_type": "display_data"
    }
   ],
   "source": [
    "data_pi = np.linspace(-2*np.pi, 2*np.pi , 1000)\n",
    "data_norm = data_pi/6.28\n",
    "y_act = np.sin(data_pi)\n",
    "plt.plot(y_act)"
   ]
  },
  {
   "cell_type": "code",
   "execution_count": 87,
   "metadata": {},
   "outputs": [],
   "source": [
    "def activation(x):\n",
    "    return np.tanh(x)\n",
    "\n",
    "def layer_computation(x,w,b):\n",
    "    return np.dot(x,w) + b\n",
    "\n",
    "def loss(x,a):\n",
    "    return np.square(x - a)*0.5, (x-a)\n",
    "\n",
    "def init_weights(layer_info):\n",
    "    weights = []\n",
    "    for i in layer_info:\n",
    "        weights.append(np.random.ranf(i))\n",
    "    return weights\n",
    "\n",
    "def forward_prop(x,y_act,weights):\n",
    "    neurons = []\n",
    "    neurons.append(x)\n",
    "    i = 0\n",
    "    for layer in weights:\n",
    "        layer_sum = layer_computation(neurons[i],weights[i],0)\n",
    "        activated = activation(layer_sum)\n",
    "        neurons.append(activated)\n",
    "        i += 1\n",
    "    loss_mse, loss_derivative  = loss(neurons[-1],y_act)\n",
    "\n",
    "    return loss_mse , loss_derivative , neurons\n",
    "\n",
    "\n",
    "\n",
    "# def Back_Propagation(AL, ZL, y, alpha):\n",
    "#     for i in reversed(range(len(Weight_Matrix))):\n",
    "#         if(i == len(Weight_Matrix) - 1):\n",
    "#             dczL = np.multiply((AL[i+1] - y),(activation_function_derivative(ZL[i])));\n",
    "#             dCdw = np.dot(dczL , AL[i].transpose());\n",
    "#             #print(dCdw);\n",
    "#             Weight_Matrix_Derivative[i] = Weight_Matrix_Derivative[i] + dCdw;\n",
    "#             Bias_Values_Derivative[i] = Bias_Values_Derivative[i] + dczL;\n",
    "#         else:\n",
    "#             dczl = np.multiply(np.dot(Weight_Matrix[i+1].transpose() , dczL) , activation_function_derivative(ZL[i]));\n",
    "#             dCdw = np.dot(dczl , AL[i].transpose());\n",
    "#             #print(dCdw);\n",
    "#             Weight_Matrix_Derivative[i] = Weight_Matrix_Derivative[i] + dCdw;\n",
    "#             Bias_Values_Derivative[i] = Bias_Values_Derivative[i] + dczl;\n",
    "#             dczL = dczl;\n",
    "\n",
    "\n",
    "def backward_prop(loss_derivative,weights,neurons,lr):\n",
    "    updates = [1,2,3,4]\n",
    "    network_size = len(weights) \n",
    "    for i in reversed(range(0,network_size)):\n",
    "        if i == network_size-1:\n",
    "            dA_dL = 1 - (np.tanh(neurons[i+1]))*2\n",
    "            dczL = np.multiply(loss_derivative,dA_dL);\n",
    "            dCdw = np.dot(dczL , neurons[i]);\n",
    "            updates[i] = updates[i] + dCdw;\n",
    "        \n",
    "        else:\n",
    "            dA_dL = 1 - (np.tanh(neurons[i+1]))*2\n",
    "            dczl = np.multiply(np.dot(weights[i+1].transpose() , dczL) , dA_dL);\n",
    "            dCdw = np.dot(dczl , neurons[i].transpose());\n",
    "            updates[i] = updates[i] + dCdw;\n",
    "            dczL = dczl\n",
    "            \n",
    "    print(updates,weights)\n",
    "    updated_weights = weights - (np.multiply(lr ,updates))\n",
    "    return updated_weights\n",
    "\n",
    "def ANN(data,y_act,weights,epochs,lr):\n",
    "    for epoch in range(epochs):\n",
    "        loss_epoch = 0\n",
    "        i = 0\n",
    "        for inp in data:\n",
    "            loss_mse , loss_derivative , neurons = forward_prop(inp,y_act[i],weights)\n",
    "            updated_weights = backward_prop(loss_derivative,weights,neurons,lr)\n",
    "            weights = updated_weights\n",
    "            loss_epoch += loss_mse\n",
    "            i += 1\n",
    "        print(\"________________Epoch \",epoch, \"Loss:\", loss_epoch)\n",
    "    return weights\n",
    "\n",
    "def forward_prop_pred(x,weights):\n",
    "    neurons = []\n",
    "    neurons.append(x)\n",
    "    i = 0\n",
    "    for layer in weights:\n",
    "        layer_sum = layer_computation(neurons[i],weights[i],0)\n",
    "        activated = activation(layer_sum)\n",
    "        neurons.append(activated)\n",
    "        i += 1\n",
    "    return neurons[-1]\n",
    "\n",
    "def predict(val,weights):\n",
    "    predictions = []\n",
    "    for inp in val:\n",
    "        prediction = forward_prop_pred(inp,weights)\n",
    "        predictions.append(prediction)\n",
    "    return predictions"
   ]
  },
  {
   "cell_type": "code",
   "execution_count": 88,
   "metadata": {},
   "outputs": [
    {
     "ename": "ValueError",
     "evalue": "shapes (1,3) and (1,1) not aligned: 3 (dim 1) != 1 (dim 0)",
     "output_type": "error",
     "traceback": [
      "\u001b[1;31m---------------------------------------------------------------------------\u001b[0m",
      "\u001b[1;31mValueError\u001b[0m                                Traceback (most recent call last)",
      "\u001b[1;32m<ipython-input-88-c7bc7ed72f77>\u001b[0m in \u001b[0;36m<module>\u001b[1;34m\u001b[0m\n\u001b[0;32m      4\u001b[0m \u001b[0mepochs\u001b[0m \u001b[1;33m=\u001b[0m \u001b[1;36m50\u001b[0m\u001b[1;33m\u001b[0m\u001b[1;33m\u001b[0m\u001b[0m\n\u001b[0;32m      5\u001b[0m \u001b[0mval\u001b[0m \u001b[1;33m=\u001b[0m \u001b[0mdata_norm\u001b[0m\u001b[1;33m[\u001b[0m\u001b[1;36m0\u001b[0m\u001b[1;33m:\u001b[0m\u001b[1;36m990\u001b[0m\u001b[1;33m]\u001b[0m\u001b[1;33m\u001b[0m\u001b[1;33m\u001b[0m\u001b[0m\n\u001b[1;32m----> 6\u001b[1;33m \u001b[0mtrained_weights\u001b[0m \u001b[1;33m=\u001b[0m \u001b[0mANN\u001b[0m\u001b[1;33m(\u001b[0m\u001b[0mdata_norm\u001b[0m\u001b[1;33m,\u001b[0m\u001b[0my_act\u001b[0m\u001b[1;33m,\u001b[0m\u001b[0mweights\u001b[0m\u001b[1;33m,\u001b[0m\u001b[0mepochs\u001b[0m\u001b[1;33m,\u001b[0m\u001b[0mlr\u001b[0m\u001b[1;33m)\u001b[0m\u001b[1;33m\u001b[0m\u001b[1;33m\u001b[0m\u001b[0m\n\u001b[0m\u001b[0;32m      7\u001b[0m \u001b[0mpredictions\u001b[0m \u001b[1;33m=\u001b[0m \u001b[0mpredict\u001b[0m\u001b[1;33m(\u001b[0m\u001b[0mval\u001b[0m\u001b[1;33m,\u001b[0m\u001b[0mtrained_weights\u001b[0m\u001b[1;33m)\u001b[0m\u001b[1;33m\u001b[0m\u001b[1;33m\u001b[0m\u001b[0m\n\u001b[0;32m      8\u001b[0m \u001b[1;33m\u001b[0m\u001b[0m\n",
      "\u001b[1;32m<ipython-input-87-51237e29e608>\u001b[0m in \u001b[0;36mANN\u001b[1;34m(data, y_act, weights, epochs, lr)\u001b[0m\n\u001b[0;32m     73\u001b[0m         \u001b[1;32mfor\u001b[0m \u001b[0minp\u001b[0m \u001b[1;32min\u001b[0m \u001b[0mdata\u001b[0m\u001b[1;33m:\u001b[0m\u001b[1;33m\u001b[0m\u001b[1;33m\u001b[0m\u001b[0m\n\u001b[0;32m     74\u001b[0m             \u001b[0mloss_mse\u001b[0m \u001b[1;33m,\u001b[0m \u001b[0mloss_derivative\u001b[0m \u001b[1;33m,\u001b[0m \u001b[0mneurons\u001b[0m \u001b[1;33m=\u001b[0m \u001b[0mforward_prop\u001b[0m\u001b[1;33m(\u001b[0m\u001b[0minp\u001b[0m\u001b[1;33m,\u001b[0m\u001b[0my_act\u001b[0m\u001b[1;33m[\u001b[0m\u001b[0mi\u001b[0m\u001b[1;33m]\u001b[0m\u001b[1;33m,\u001b[0m\u001b[0mweights\u001b[0m\u001b[1;33m)\u001b[0m\u001b[1;33m\u001b[0m\u001b[1;33m\u001b[0m\u001b[0m\n\u001b[1;32m---> 75\u001b[1;33m             \u001b[0mupdated_weights\u001b[0m \u001b[1;33m=\u001b[0m \u001b[0mbackward_prop\u001b[0m\u001b[1;33m(\u001b[0m\u001b[0mloss_derivative\u001b[0m\u001b[1;33m,\u001b[0m\u001b[0mweights\u001b[0m\u001b[1;33m,\u001b[0m\u001b[0mneurons\u001b[0m\u001b[1;33m,\u001b[0m\u001b[0mlr\u001b[0m\u001b[1;33m)\u001b[0m\u001b[1;33m\u001b[0m\u001b[1;33m\u001b[0m\u001b[0m\n\u001b[0m\u001b[0;32m     76\u001b[0m             \u001b[0mweights\u001b[0m \u001b[1;33m=\u001b[0m \u001b[0mupdated_weights\u001b[0m\u001b[1;33m\u001b[0m\u001b[1;33m\u001b[0m\u001b[0m\n\u001b[0;32m     77\u001b[0m             \u001b[0mloss_epoch\u001b[0m \u001b[1;33m+=\u001b[0m \u001b[0mloss_mse\u001b[0m\u001b[1;33m\u001b[0m\u001b[1;33m\u001b[0m\u001b[0m\n",
      "\u001b[1;32m<ipython-input-87-51237e29e608>\u001b[0m in \u001b[0;36mbackward_prop\u001b[1;34m(loss_derivative, weights, neurons, lr)\u001b[0m\n\u001b[0;32m     58\u001b[0m         \u001b[1;32melse\u001b[0m\u001b[1;33m:\u001b[0m\u001b[1;33m\u001b[0m\u001b[1;33m\u001b[0m\u001b[0m\n\u001b[0;32m     59\u001b[0m             \u001b[0mdA_dL\u001b[0m \u001b[1;33m=\u001b[0m \u001b[1;36m1\u001b[0m \u001b[1;33m-\u001b[0m \u001b[1;33m(\u001b[0m\u001b[0mnp\u001b[0m\u001b[1;33m.\u001b[0m\u001b[0mtanh\u001b[0m\u001b[1;33m(\u001b[0m\u001b[0mneurons\u001b[0m\u001b[1;33m[\u001b[0m\u001b[0mi\u001b[0m\u001b[1;33m+\u001b[0m\u001b[1;36m1\u001b[0m\u001b[1;33m]\u001b[0m\u001b[1;33m)\u001b[0m\u001b[1;33m)\u001b[0m\u001b[1;33m*\u001b[0m\u001b[1;36m2\u001b[0m\u001b[1;33m\u001b[0m\u001b[1;33m\u001b[0m\u001b[0m\n\u001b[1;32m---> 60\u001b[1;33m             \u001b[0mdczl\u001b[0m \u001b[1;33m=\u001b[0m \u001b[0mnp\u001b[0m\u001b[1;33m.\u001b[0m\u001b[0mmultiply\u001b[0m\u001b[1;33m(\u001b[0m\u001b[0mnp\u001b[0m\u001b[1;33m.\u001b[0m\u001b[0mdot\u001b[0m\u001b[1;33m(\u001b[0m\u001b[0mweights\u001b[0m\u001b[1;33m[\u001b[0m\u001b[0mi\u001b[0m\u001b[1;33m+\u001b[0m\u001b[1;36m1\u001b[0m\u001b[1;33m]\u001b[0m\u001b[1;33m.\u001b[0m\u001b[0mtranspose\u001b[0m\u001b[1;33m(\u001b[0m\u001b[1;33m)\u001b[0m \u001b[1;33m,\u001b[0m \u001b[0mdczL\u001b[0m\u001b[1;33m)\u001b[0m \u001b[1;33m,\u001b[0m \u001b[0mdA_dL\u001b[0m\u001b[1;33m)\u001b[0m\u001b[1;33m;\u001b[0m\u001b[1;33m\u001b[0m\u001b[1;33m\u001b[0m\u001b[0m\n\u001b[0m\u001b[0;32m     61\u001b[0m             \u001b[0mdCdw\u001b[0m \u001b[1;33m=\u001b[0m \u001b[0mnp\u001b[0m\u001b[1;33m.\u001b[0m\u001b[0mdot\u001b[0m\u001b[1;33m(\u001b[0m\u001b[0mdczl\u001b[0m \u001b[1;33m,\u001b[0m \u001b[0mneurons\u001b[0m\u001b[1;33m[\u001b[0m\u001b[0mi\u001b[0m\u001b[1;33m]\u001b[0m\u001b[1;33m.\u001b[0m\u001b[0mtranspose\u001b[0m\u001b[1;33m(\u001b[0m\u001b[1;33m)\u001b[0m\u001b[1;33m)\u001b[0m\u001b[1;33m;\u001b[0m\u001b[1;33m\u001b[0m\u001b[1;33m\u001b[0m\u001b[0m\n\u001b[0;32m     62\u001b[0m             \u001b[0mupdates\u001b[0m\u001b[1;33m[\u001b[0m\u001b[0mi\u001b[0m\u001b[1;33m]\u001b[0m \u001b[1;33m=\u001b[0m \u001b[0mupdates\u001b[0m\u001b[1;33m[\u001b[0m\u001b[0mi\u001b[0m\u001b[1;33m]\u001b[0m \u001b[1;33m+\u001b[0m \u001b[0mdCdw\u001b[0m\u001b[1;33m;\u001b[0m\u001b[1;33m\u001b[0m\u001b[1;33m\u001b[0m\u001b[0m\n",
      "\u001b[1;32m<__array_function__ internals>\u001b[0m in \u001b[0;36mdot\u001b[1;34m(*args, **kwargs)\u001b[0m\n",
      "\u001b[1;31mValueError\u001b[0m: shapes (1,3) and (1,1) not aligned: 3 (dim 1) != 1 (dim 0)"
     ]
    }
   ],
   "source": [
    "\n",
    "layer_info = [[1,2],[2,3],[3,1]]\n",
    "weights = init_weights(layer_info)\n",
    "lr = 0.001\n",
    "epochs = 50\n",
    "val = data_norm[0:990]\n",
    "trained_weights = ANN(data_norm,y_act,weights,epochs,lr)\n",
    "predictions = predict(val,trained_weights)\n",
    "\n",
    "predictions = [pred[0]*6.28 for pred in predictions]"
   ]
  },
  {
   "cell_type": "code",
   "execution_count": 5,
   "metadata": {},
   "outputs": [
    {
     "ename": "NameError",
     "evalue": "name 'predictions' is not defined",
     "output_type": "error",
     "traceback": [
      "\u001b[1;31m---------------------------------------------------------------------------\u001b[0m",
      "\u001b[1;31mNameError\u001b[0m                                 Traceback (most recent call last)",
      "\u001b[1;32m<ipython-input-5-a496b2f4cf4b>\u001b[0m in \u001b[0;36m<module>\u001b[1;34m\u001b[0m\n\u001b[0;32m      1\u001b[0m \u001b[0mplt\u001b[0m\u001b[1;33m.\u001b[0m\u001b[0mplot\u001b[0m\u001b[1;33m(\u001b[0m\u001b[0my_act\u001b[0m\u001b[1;33m*\u001b[0m\u001b[1;36m6.28\u001b[0m\u001b[1;33m)\u001b[0m\u001b[1;33m\u001b[0m\u001b[1;33m\u001b[0m\u001b[0m\n\u001b[1;32m----> 2\u001b[1;33m \u001b[0mplt\u001b[0m\u001b[1;33m.\u001b[0m\u001b[0mplot\u001b[0m\u001b[1;33m(\u001b[0m\u001b[0mpredictions\u001b[0m\u001b[1;33m)\u001b[0m\u001b[1;33m\u001b[0m\u001b[1;33m\u001b[0m\u001b[0m\n\u001b[0m",
      "\u001b[1;31mNameError\u001b[0m: name 'predictions' is not defined"
     ]
    },
    {
     "data": {
      "image/png": "[encoded data removed]",
      "text/plain": [
       "<Figure size 432x288 with 1 Axes>"
      ]
     },
     "metadata": {
      "needs_background": "light"
     },
     "output_type": "display_data"
    }
   ],
   "source": [
    "plt.plot(y_act*6.28)\n",
    "plt.plot(predictions)"
   ]
  },
  {
   "cell_type": "code",
   "execution_count": 42,
   "metadata": {},
   "outputs": [
    {
     "data": {
      "text/plain": [
       "[array([[0.34411986, 0.97367321]]),\n",
       " array([[0.62980359, 0.37462817, 0.79669458],\n",
       "        [0.42356166, 0.48038298, 0.04700001]]),\n",
       " array([[0.07348424],\n",
       "        [0.02457057],\n",
       "        [0.99444891]])]"
      ]
     },
     "execution_count": 42,
     "metadata": {},
     "output_type": "execute_result"
    }
   ],
   "source": [
    "weights"
   ]
  },
  {
   "cell_type": "code",
   "execution_count": null,
   "metadata": {},
   "outputs": [],
   "source": []
  }
 ],
 "metadata": {
  "kernelspec": {
   "display_name": "Python 3",
   "language": "python",
   "name": "python3"
  },
  "language_info": {
   "codemirror_mode": {
    "name": "ipython",
    "version": 3
   },
   "file_extension": ".py",
   "mimetype": "text/x-python",
   "name": "python",
   "nbconvert_exporter": "python",
   "pygments_lexer": "ipython3",
   "version": "3.8.0"
  }
 },
 "nbformat": 4,
 "nbformat_minor": 4
}
